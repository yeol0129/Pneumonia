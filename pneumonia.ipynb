{
 "cells": [
  {
   "cell_type": "code",
   "execution_count": 62,
   "id": "1331abf5",
   "metadata": {},
   "outputs": [],
   "source": [
    "import numpy as np\n",
    "import pandas as pd\n",
    "import os\n",
    "import PIL\n",
    "from PIL import Image\n",
    "import cv2\n",
    "import tensorflow as tf\n",
    "from tensorflow import keras\n",
    "from tensorflow.keras.optimizers import Adam\n",
    "from tensorflow.keras.preprocessing.image import ImageDataGenerator\n",
    "import matplotlib.pyplot as plt\n",
    "from matplotlib.pyplot import imshow\n",
    "from sklearn.model_selection import train_test_split\n",
    "import matplotlib.pyplot as plt\n",
    "from matplotlib.pyplot import imshow\n",
    "import shutil\n",
    "from sklearn.metrics import confusion_matrix, classification_report"
   ]
  },
  {
   "cell_type": "code",
   "execution_count": 5,
   "id": "637b44a9",
   "metadata": {},
   "outputs": [
    {
     "name": "stdout",
     "output_type": "stream",
     "text": [
      "      Unnamed: 0            X_ray_image_name     Label Dataset_type  \\\n",
      "0              0           IM-0128-0001.jpeg    Normal        TRAIN   \n",
      "1              1           IM-0127-0001.jpeg    Normal        TRAIN   \n",
      "2              2           IM-0125-0001.jpeg    Normal        TRAIN   \n",
      "3              3           IM-0122-0001.jpeg    Normal        TRAIN   \n",
      "4              4           IM-0119-0001.jpeg    Normal        TRAIN   \n",
      "...          ...                         ...       ...          ...   \n",
      "5905        5928  person1637_virus_2834.jpeg  Pnemonia         TEST   \n",
      "5906        5929  person1635_virus_2831.jpeg  Pnemonia         TEST   \n",
      "5907        5930  person1634_virus_2830.jpeg  Pnemonia         TEST   \n",
      "5908        5931  person1633_virus_2829.jpeg  Pnemonia         TEST   \n",
      "5909        5932  person1632_virus_2827.jpeg  Pnemonia         TEST   \n",
      "\n",
      "     Label_2_Virus_category Label_1_Virus_category  \n",
      "0                         0                      0  \n",
      "1                         0                      0  \n",
      "2                         0                      0  \n",
      "3                         0                      0  \n",
      "4                         0                      0  \n",
      "...                     ...                    ...  \n",
      "5905                      0                  Virus  \n",
      "5906                      0                  Virus  \n",
      "5907                      0                  Virus  \n",
      "5908                      0                  Virus  \n",
      "5909                      0                  Virus  \n",
      "\n",
      "[5910 rows x 6 columns]\n"
     ]
    }
   ],
   "source": [
    "summ = pd.read_csv('Chest_xray_Corona_dataset_Summary.csv')\n",
    "meta = pd.read_csv('Chest_xray_Corona_Metadata.csv')\n",
    "#null데이터 0으로 만들어줌\n",
    "meta.fillna('0', inplace = True)\n",
    "meta.isnull().sum()\n",
    "\n",
    "print(meta)\n",
    "\n",
    "#test와 train 데이터 나눔\n",
    "train_data = meta[meta['Dataset_type']=='TRAIN']\n",
    "test_data = meta[meta['Dataset_type']=='TEST']\n",
    "\n",
    "#test, train 나눈 데이터 새로운 csv에 저장\n",
    "#train_data.to_csv('train_data_corona.csv')\n",
    "#test_data.to_csv('test_data_corona.csv')"
   ]
  },
  {
   "cell_type": "code",
   "execution_count": 6,
   "id": "447de2e0",
   "metadata": {},
   "outputs": [],
   "source": [
    "train_df=pd.read_csv('train_data_corona.csv')\n",
    "test_df=pd.read_csv('test_data_corona.csv')"
   ]
  },
  {
   "cell_type": "code",
   "execution_count": 8,
   "id": "ad3ddd54",
   "metadata": {},
   "outputs": [
    {
     "data": {
      "text/html": [
       "<div>\n",
       "<style scoped>\n",
       "    .dataframe tbody tr th:only-of-type {\n",
       "        vertical-align: middle;\n",
       "    }\n",
       "\n",
       "    .dataframe tbody tr th {\n",
       "        vertical-align: top;\n",
       "    }\n",
       "\n",
       "    .dataframe thead th {\n",
       "        text-align: right;\n",
       "    }\n",
       "</style>\n",
       "<table border=\"1\" class=\"dataframe\">\n",
       "  <thead>\n",
       "    <tr style=\"text-align: right;\">\n",
       "      <th></th>\n",
       "      <th>X_ray_image_name</th>\n",
       "      <th>Label</th>\n",
       "      <th>Dataset_type</th>\n",
       "      <th>Label_2_Virus_category</th>\n",
       "      <th>Label_1_Virus_category</th>\n",
       "    </tr>\n",
       "  </thead>\n",
       "  <tbody>\n",
       "    <tr>\n",
       "      <th>0</th>\n",
       "      <td>IM-0128-0001.jpeg</td>\n",
       "      <td>Normal</td>\n",
       "      <td>TRAIN</td>\n",
       "      <td>0</td>\n",
       "      <td>0</td>\n",
       "    </tr>\n",
       "    <tr>\n",
       "      <th>1</th>\n",
       "      <td>IM-0127-0001.jpeg</td>\n",
       "      <td>Normal</td>\n",
       "      <td>TRAIN</td>\n",
       "      <td>0</td>\n",
       "      <td>0</td>\n",
       "    </tr>\n",
       "    <tr>\n",
       "      <th>2</th>\n",
       "      <td>IM-0125-0001.jpeg</td>\n",
       "      <td>Normal</td>\n",
       "      <td>TRAIN</td>\n",
       "      <td>0</td>\n",
       "      <td>0</td>\n",
       "    </tr>\n",
       "    <tr>\n",
       "      <th>3</th>\n",
       "      <td>IM-0122-0001.jpeg</td>\n",
       "      <td>Normal</td>\n",
       "      <td>TRAIN</td>\n",
       "      <td>0</td>\n",
       "      <td>0</td>\n",
       "    </tr>\n",
       "    <tr>\n",
       "      <th>4</th>\n",
       "      <td>IM-0119-0001.jpeg</td>\n",
       "      <td>Normal</td>\n",
       "      <td>TRAIN</td>\n",
       "      <td>0</td>\n",
       "      <td>0</td>\n",
       "    </tr>\n",
       "  </tbody>\n",
       "</table>\n",
       "</div>"
      ],
      "text/plain": [
       "    X_ray_image_name   Label Dataset_type Label_2_Virus_category  \\\n",
       "0  IM-0128-0001.jpeg  Normal        TRAIN                      0   \n",
       "1  IM-0127-0001.jpeg  Normal        TRAIN                      0   \n",
       "2  IM-0125-0001.jpeg  Normal        TRAIN                      0   \n",
       "3  IM-0122-0001.jpeg  Normal        TRAIN                      0   \n",
       "4  IM-0119-0001.jpeg  Normal        TRAIN                      0   \n",
       "\n",
       "  Label_1_Virus_category  \n",
       "0                      0  \n",
       "1                      0  \n",
       "2                      0  \n",
       "3                      0  \n",
       "4                      0  "
      ]
     },
     "execution_count": 8,
     "metadata": {},
     "output_type": "execute_result"
    }
   ],
   "source": [
    "train_df.head()"
   ]
  },
  {
   "cell_type": "code",
   "execution_count": 9,
   "id": "95dadfd7",
   "metadata": {},
   "outputs": [
    {
     "data": {
      "text/html": [
       "<div>\n",
       "<style scoped>\n",
       "    .dataframe tbody tr th:only-of-type {\n",
       "        vertical-align: middle;\n",
       "    }\n",
       "\n",
       "    .dataframe tbody tr th {\n",
       "        vertical-align: top;\n",
       "    }\n",
       "\n",
       "    .dataframe thead th {\n",
       "        text-align: right;\n",
       "    }\n",
       "</style>\n",
       "<table border=\"1\" class=\"dataframe\">\n",
       "  <thead>\n",
       "    <tr style=\"text-align: right;\">\n",
       "      <th></th>\n",
       "      <th>X_ray_image_name</th>\n",
       "      <th>Label</th>\n",
       "      <th>Dataset_type</th>\n",
       "      <th>Label_2_Virus_category</th>\n",
       "      <th>Label_1_Virus_category</th>\n",
       "    </tr>\n",
       "  </thead>\n",
       "  <tbody>\n",
       "    <tr>\n",
       "      <th>0</th>\n",
       "      <td>IM-0021-0001.jpeg</td>\n",
       "      <td>Normal</td>\n",
       "      <td>TEST</td>\n",
       "      <td>0</td>\n",
       "      <td>0</td>\n",
       "    </tr>\n",
       "    <tr>\n",
       "      <th>1</th>\n",
       "      <td>IM-0019-0001.jpeg</td>\n",
       "      <td>Normal</td>\n",
       "      <td>TEST</td>\n",
       "      <td>0</td>\n",
       "      <td>0</td>\n",
       "    </tr>\n",
       "    <tr>\n",
       "      <th>2</th>\n",
       "      <td>IM-0017-0001.jpeg</td>\n",
       "      <td>Normal</td>\n",
       "      <td>TEST</td>\n",
       "      <td>0</td>\n",
       "      <td>0</td>\n",
       "    </tr>\n",
       "    <tr>\n",
       "      <th>3</th>\n",
       "      <td>IM-0016-0001.jpeg</td>\n",
       "      <td>Normal</td>\n",
       "      <td>TEST</td>\n",
       "      <td>0</td>\n",
       "      <td>0</td>\n",
       "    </tr>\n",
       "    <tr>\n",
       "      <th>4</th>\n",
       "      <td>IM-0015-0001.jpeg</td>\n",
       "      <td>Normal</td>\n",
       "      <td>TEST</td>\n",
       "      <td>0</td>\n",
       "      <td>0</td>\n",
       "    </tr>\n",
       "  </tbody>\n",
       "</table>\n",
       "</div>"
      ],
      "text/plain": [
       "    X_ray_image_name   Label Dataset_type  Label_2_Virus_category  \\\n",
       "0  IM-0021-0001.jpeg  Normal         TEST                       0   \n",
       "1  IM-0019-0001.jpeg  Normal         TEST                       0   \n",
       "2  IM-0017-0001.jpeg  Normal         TEST                       0   \n",
       "3  IM-0016-0001.jpeg  Normal         TEST                       0   \n",
       "4  IM-0015-0001.jpeg  Normal         TEST                       0   \n",
       "\n",
       "  Label_1_Virus_category  \n",
       "0                      0  \n",
       "1                      0  \n",
       "2                      0  \n",
       "3                      0  \n",
       "4                      0  "
      ]
     },
     "execution_count": 9,
     "metadata": {},
     "output_type": "execute_result"
    }
   ],
   "source": [
    "test_df.head()"
   ]
  },
  {
   "cell_type": "code",
   "execution_count": 10,
   "id": "d43b5817",
   "metadata": {},
   "outputs": [],
   "source": [
    "#x-ray 이미지 데이터 불러오기\n",
    "train_img='./Coronahack-Chest-XRay-Dataset/train'\n",
    "test_img='./Coronahack-Chest-XRay-Dataset/test'"
   ]
  },
  {
   "cell_type": "code",
   "execution_count": 14,
   "id": "37e1a6d3",
   "metadata": {},
   "outputs": [
    {
     "data": {
      "text/plain": [
       "Pnemonia    3944\n",
       "Normal      1342\n",
       "Name: Label, dtype: int64"
      ]
     },
     "execution_count": 14,
     "metadata": {},
     "output_type": "execute_result"
    }
   ],
   "source": [
    "#폐렴과 일반데이터 확인\n",
    "train_df['Label'].value_counts()"
   ]
  },
  {
   "cell_type": "code",
   "execution_count": 15,
   "id": "78830eb4",
   "metadata": {},
   "outputs": [
    {
     "data": {
      "text/plain": [
       "0                5217\n",
       "COVID-19           58\n",
       "Streptococcus       5\n",
       "SARS                4\n",
       "ARDS                2\n",
       "Name: Label_2_Virus_category, dtype: int64"
      ]
     },
     "execution_count": 15,
     "metadata": {},
     "output_type": "execute_result"
    }
   ],
   "source": [
    "#사진의 병명,수 확인\n",
    "train_df['Label_2_Virus_category'].value_counts()"
   ]
  },
  {
   "cell_type": "code",
   "execution_count": 81,
   "id": "31b7d28e",
   "metadata": {},
   "outputs": [
    {
     "name": "stdout",
     "output_type": "stream",
     "text": [
      "covid19 shape:  (633, 5)\n",
      "covid19 shape:  (212, 5)\n"
     ]
    }
   ],
   "source": [
    "Pneumonia  = train_df[train_df['Label']=='Pnemonia']  \n",
    "Normal = train_df[train_df['Label']=='Normal']\n",
    "\n",
    "print('covid19 shape: ',Pneumonia.shape)\n",
    "print('covid19 shape: ',Normal.shape)"
   ]
  },
  {
   "cell_type": "code",
   "execution_count": 19,
   "id": "637771e4",
   "metadata": {},
   "outputs": [],
   "source": [
    "train_df, valid_df = train_test_split(train_df, train_size=0.8, random_state=0)"
   ]
  },
  {
   "cell_type": "code",
   "execution_count": 20,
   "id": "696092c0",
   "metadata": {},
   "outputs": [
    {
     "name": "stdout",
     "output_type": "stream",
     "text": [
      "Negative and positive values of train: Pnemonia    633\n",
      "Normal      212\n",
      "Name: Label, dtype: int64\n",
      "Negative and positive values of validation: Pnemonia    162\n",
      "Normal       50\n",
      "Name: Label, dtype: int64\n",
      "Negative and positive values of test: Pnemonia    390\n",
      "Normal      234\n",
      "Name: Label, dtype: int64\n"
     ]
    }
   ],
   "source": [
    "print(f\"Negative and positive values of train: {train_df['Label'].value_counts()}\")\n",
    "print(f\"Negative and positive values of validation: {valid_df['Label'].value_counts()}\")\n",
    "print(f\"Negative and positive values of test: {test_df['Label'].value_counts()}\")"
   ]
  },
  {
   "cell_type": "code",
   "execution_count": 21,
   "id": "9fc865ea",
   "metadata": {},
   "outputs": [],
   "source": [
    "train_datagen = ImageDataGenerator(rescale = 1./255.,rotation_range = 40, width_shift_range = 0.2, height_shift_range = 0.2, \n",
    "                                   shear_range = 0.2, zoom_range = 0.2, horizontal_flip = True, vertical_flip =True)\n",
    "test_datagen = ImageDataGenerator(rescale = 1.0/255.)"
   ]
  },
  {
   "cell_type": "code",
   "execution_count": 23,
   "id": "f41188ef",
   "metadata": {},
   "outputs": [
    {
     "name": "stdout",
     "output_type": "stream",
     "text": [
      "Found 845 validated image filenames belonging to 2 classes.\n",
      "Found 212 validated image filenames belonging to 2 classes.\n",
      "Found 624 validated image filenames belonging to 2 classes.\n"
     ]
    }
   ],
   "source": [
    "train_gen = train_datagen.flow_from_dataframe(dataframe = train_df, directory=train_img, x_col='X_ray_image_name', \n",
    "                                              y_col='Label', target_size=(224,224), batch_size=64, \n",
    "                                               class_mode='binary')\n",
    "valid_gen = test_datagen.flow_from_dataframe(dataframe = valid_df, directory=train_img, x_col='X_ray_image_name',\n",
    "                                             y_col='Label', target_size=(224,224), batch_size=64, \n",
    "                                            class_mode='binary')\n",
    "test_gen = test_datagen.flow_from_dataframe(dataframe = test_df, directory=test_img, x_col='X_ray_image_name', \n",
    "                                            y_col='Label', target_size=(224,224), batch_size=64,\n",
    "                                             class_mode='binary')"
   ]
  },
  {
   "cell_type": "code",
   "execution_count": 24,
   "id": "c9970838",
   "metadata": {},
   "outputs": [
    {
     "name": "stdout",
     "output_type": "stream",
     "text": [
      "Metal device set to: Apple M1\n"
     ]
    },
    {
     "name": "stderr",
     "output_type": "stream",
     "text": [
      "2022-09-21 18:35:22.013328: I tensorflow/core/common_runtime/pluggable_device/pluggable_device_factory.cc:306] Could not identify NUMA node of platform GPU ID 0, defaulting to 0. Your kernel may not have been built with NUMA support.\n",
      "2022-09-21 18:35:22.014723: I tensorflow/core/common_runtime/pluggable_device/pluggable_device_factory.cc:272] Created TensorFlow device (/job:localhost/replica:0/task:0/device:GPU:0 with 0 MB memory) -> physical PluggableDevice (device: 0, name: METAL, pci bus id: <undefined>)\n"
     ]
    },
    {
     "name": "stdout",
     "output_type": "stream",
     "text": [
      "Downloading data from https://storage.googleapis.com/tensorflow/keras-applications/resnet/resnet50v2_weights_tf_dim_ordering_tf_kernels_notop.h5\n",
      "94668760/94668760 [==============================] - 3s 0us/step\n"
     ]
    }
   ],
   "source": [
    "import tensorflow as tf\n",
    "\n",
    "base_model = tf.keras.applications.ResNet50V2(weights='imagenet', input_shape = (224,224,3),\n",
    "                                                     include_top=False)\n",
    "for layer in base_model.layers:\n",
    "    layer.trainable = False"
   ]
  },
  {
   "cell_type": "code",
   "execution_count": 25,
   "id": "15d2d28b",
   "metadata": {},
   "outputs": [],
   "source": [
    "model = tf.keras.Sequential([\n",
    "    base_model, \n",
    "    tf.keras.layers.GlobalAveragePooling2D(), \n",
    "    tf.keras.layers.Dense(128, activation='relu'),\n",
    "    tf.keras.layers.BatchNormalization(), \n",
    "    tf.keras.layers.Dropout(0.2), \n",
    "    tf.keras.layers.Dense(1, activation='sigmoid')\n",
    "])"
   ]
  },
  {
   "cell_type": "code",
   "execution_count": 26,
   "id": "f5c7fc24",
   "metadata": {},
   "outputs": [],
   "source": [
    "callbacks = [\n",
    "    tf.keras.callbacks.ModelCheckpoint(\"covid_classifier_model.h5\", save_best_only=True, verbose = 0),\n",
    "    tf.keras.callbacks.EarlyStopping(patience=3, monitor='val_loss', verbose=1),\n",
    "    tf.keras.callbacks.ReduceLROnPlateau(monitor='val_loss', factor=0.5, patience=2, verbose=1)\n",
    "]\n"
   ]
  },
  {
   "cell_type": "code",
   "execution_count": 27,
   "id": "b21e9828",
   "metadata": {},
   "outputs": [],
   "source": [
    "model.compile(optimizer = keras.optimizers.Adam(learning_rate=0.001),\n",
    "              loss = 'binary_crossentropy',\n",
    "              metrics=['accuracy'])"
   ]
  },
  {
   "cell_type": "code",
   "execution_count": 31,
   "id": "39f2cd1d",
   "metadata": {},
   "outputs": [
    {
     "name": "stdout",
     "output_type": "stream",
     "text": [
      "Epoch 1/100\n",
      "14/14 [==============================] - 14s 902ms/step - loss: 0.2199 - accuracy: 0.9302 - val_loss: 0.2628 - val_accuracy: 0.8868 - lr: 5.0000e-04\n",
      "Epoch 2/100\n",
      "14/14 [==============================] - 12s 835ms/step - loss: 0.2186 - accuracy: 0.9278 - val_loss: 0.2713 - val_accuracy: 0.8821 - lr: 5.0000e-04\n",
      "Epoch 3/100\n",
      "14/14 [==============================] - ETA: 0s - loss: 0.1945 - accuracy: 0.9373\n",
      "Epoch 3: ReduceLROnPlateau reducing learning rate to 0.0002500000118743628.\n",
      "14/14 [==============================] - 13s 873ms/step - loss: 0.1945 - accuracy: 0.9373 - val_loss: 0.3194 - val_accuracy: 0.8726 - lr: 5.0000e-04\n",
      "Epoch 4/100\n",
      "14/14 [==============================] - 12s 841ms/step - loss: 0.1790 - accuracy: 0.9538 - val_loss: 0.2111 - val_accuracy: 0.9292 - lr: 2.5000e-04\n",
      "Epoch 5/100\n",
      "14/14 [==============================] - 13s 892ms/step - loss: 0.1891 - accuracy: 0.9385 - val_loss: 0.1764 - val_accuracy: 0.9387 - lr: 2.5000e-04\n",
      "Epoch 6/100\n",
      "14/14 [==============================] - 19s 1s/step - loss: 0.1759 - accuracy: 0.9385 - val_loss: 0.1787 - val_accuracy: 0.9387 - lr: 2.5000e-04\n",
      "Epoch 7/100\n",
      "14/14 [==============================] - ETA: 0s - loss: 0.1783 - accuracy: 0.9373\n",
      "Epoch 7: ReduceLROnPlateau reducing learning rate to 0.0001250000059371814.\n",
      "14/14 [==============================] - 13s 903ms/step - loss: 0.1783 - accuracy: 0.9373 - val_loss: 0.1848 - val_accuracy: 0.9387 - lr: 2.5000e-04\n",
      "Epoch 8/100\n",
      "14/14 [==============================] - 13s 928ms/step - loss: 0.1759 - accuracy: 0.9515 - val_loss: 0.1704 - val_accuracy: 0.9434 - lr: 1.2500e-04\n",
      "Epoch 9/100\n",
      "14/14 [==============================] - 12s 854ms/step - loss: 0.1903 - accuracy: 0.9314 - val_loss: 0.1704 - val_accuracy: 0.9481 - lr: 1.2500e-04\n",
      "Epoch 10/100\n",
      "14/14 [==============================] - ETA: 0s - loss: 0.1679 - accuracy: 0.9479\n",
      "Epoch 10: ReduceLROnPlateau reducing learning rate to 6.25000029685907e-05.\n",
      "14/14 [==============================] - 12s 822ms/step - loss: 0.1679 - accuracy: 0.9479 - val_loss: 0.1783 - val_accuracy: 0.9481 - lr: 1.2500e-04\n",
      "Epoch 11/100\n",
      "14/14 [==============================] - 12s 843ms/step - loss: 0.1627 - accuracy: 0.9598 - val_loss: 0.1679 - val_accuracy: 0.9481 - lr: 6.2500e-05\n",
      "Epoch 12/100\n",
      "14/14 [==============================] - 12s 857ms/step - loss: 0.1658 - accuracy: 0.9479 - val_loss: 0.1691 - val_accuracy: 0.9434 - lr: 6.2500e-05\n",
      "Epoch 13/100\n",
      "14/14 [==============================] - ETA: 0s - loss: 0.1466 - accuracy: 0.9527\n",
      "Epoch 13: ReduceLROnPlateau reducing learning rate to 3.125000148429535e-05.\n",
      "14/14 [==============================] - 12s 903ms/step - loss: 0.1466 - accuracy: 0.9527 - val_loss: 0.1704 - val_accuracy: 0.9481 - lr: 6.2500e-05\n",
      "Epoch 14/100\n",
      "14/14 [==============================] - 12s 814ms/step - loss: 0.1733 - accuracy: 0.9444 - val_loss: 0.1683 - val_accuracy: 0.9528 - lr: 3.1250e-05\n",
      "Epoch 14: early stopping\n"
     ]
    }
   ],
   "source": [
    "history = model.fit(train_gen, \n",
    "                    validation_data=valid_gen, epochs=100, \n",
    "                    callbacks=[callbacks])"
   ]
  },
  {
   "cell_type": "code",
   "execution_count": 60,
   "id": "3744e10a",
   "metadata": {},
   "outputs": [
    {
     "data": {
      "image/png": "[encoded data removed]",
      "text/plain": [
       "<Figure size 640x480 with 1 Axes>"
      ]
     },
     "metadata": {},
     "output_type": "display_data"
    }
   ],
   "source": [
    "plt.plot(history.history['accuracy'],'y')\n",
    "plt.plot(history.history['val_accuracy'],'r')\n",
    "plt.plot(history.history['loss'],'g')\n",
    "plt.plot(history.history['val_loss'],'b')\n",
    "plt.legend(['train_acc', 'test_acc','train_loss', 'test_loss'], loc='center left')\n",
    "plt.show()\n"
   ]
  }
 ],
 "metadata": {
  "jupytext": {
   "formats": "ipynb,auto:light"
  },
  "kernelspec": {
   "display_name": "Python 3 (ipykernel)",
   "language": "python",
   "name": "python3"
  },
  "language_info": {
   "codemirror_mode": {
    "name": "ipython",
    "version": 3
   },
   "file_extension": ".py",
   "mimetype": "text/x-python",
   "name": "python",
   "nbconvert_exporter": "python",
   "pygments_lexer": "ipython3",
   "version": "3.9.13"
  }
 },
 "nbformat": 4,
 "nbformat_minor": 5
}
